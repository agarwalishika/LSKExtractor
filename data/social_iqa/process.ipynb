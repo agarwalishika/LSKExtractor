{
 "cells": [
  {
   "cell_type": "code",
   "execution_count": null,
   "id": "4e6f1cfa",
   "metadata": {},
   "outputs": [],
   "source": [
    "from datasets import load_dataset\n",
    "\n",
    "df = load_dataset('allenai/social_i_qa')['train'].to_pandas()"
   ]
  },
  {
   "cell_type": "code",
   "execution_count": null,
   "id": "d069626a",
   "metadata": {},
   "outputs": [],
   "source": [
    "input = []\n",
    "output = []\n",
    "choices = []\n",
    "\n",
    "for i, row in df.iterrows():\n",
    "    input.append(f\"{row['context']} {row['question']}\")\n",
    "    if row['label'] == \"1\":\n",
    "        output.append(\"A. \" + row['answerA'])\n",
    "    elif row['label'] == \"2\":\n",
    "        output.append(\"B. \" + row['answerB'])\n",
    "    elif row['label'] == \"3\":\n",
    "        output.append(\"C. \" + row['answerC'])\n",
    "    else:\n",
    "        print('uhhhhh', row['label'])\n",
    "        0/0\n",
    "    \n",
    "    choices.append(f\"A. {row['answerA']}\\nB. {row['answerB']}\\nC. {row['answerC']}\")\n"
   ]
  },
  {
   "cell_type": "code",
   "execution_count": null,
   "id": "8683d64b",
   "metadata": {},
   "outputs": [],
   "source": [
    "df['input'] = input\n",
    "df['output'] = output\n",
    "df['choices'] = choices"
   ]
  },
  {
   "cell_type": "code",
   "execution_count": null,
   "id": "b954ef64",
   "metadata": {},
   "outputs": [],
   "source": [
    "import pickle\n",
    "\n",
    "with open('data.pkl', 'wb+') as f:\n",
    "    pickle.dump(df, f)"
   ]
  }
 ],
 "metadata": {
  "kernelspec": {
   "display_name": "lsk",
   "language": "python",
   "name": "python3"
  },
  "language_info": {
   "codemirror_mode": {
    "name": "ipython",
    "version": 3
   },
   "file_extension": ".py",
   "mimetype": "text/x-python",
   "name": "python",
   "nbconvert_exporter": "python",
   "pygments_lexer": "ipython3",
   "version": "3.11.0"
  }
 },
 "nbformat": 4,
 "nbformat_minor": 5
}
