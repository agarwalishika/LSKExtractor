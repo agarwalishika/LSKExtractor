{
 "cells": [
  {
   "cell_type": "code",
   "execution_count": 1,
   "id": "78de84e6",
   "metadata": {},
   "outputs": [
    {
     "name": "stderr",
     "output_type": "stream",
     "text": [
      "/home/ishikaa2/miniconda3/envs/lsk/lib/python3.11/site-packages/tqdm/auto.py:21: TqdmWarning: IProgress not found. Please update jupyter and ipywidgets. See https://ipywidgets.readthedocs.io/en/stable/user_install.html\n",
      "  from .autonotebook import tqdm as notebook_tqdm\n"
     ]
    }
   ],
   "source": [
    "from datasets import load_dataset\n",
    "import json\n",
    "\n",
    "df = load_dataset('nayeon212/BLEnD', 'multiple-choice-questions')['test'].to_pandas()"
   ]
  },
  {
   "cell_type": "code",
   "execution_count": 3,
   "id": "4c05173e",
   "metadata": {},
   "outputs": [],
   "source": [
    "data_input = []\n",
    "data_choices = []\n",
    "data_output = []\n",
    "\n",
    "for i, row in df.iterrows():\n",
    "    items = row['prompt'].split('\\n\\n')\n",
    "    data_input.append(items[0][:items[0].index(\"Without any explanation\")].strip())\n",
    "    data_choices.append(items[1].replace(\"\\\"\", \"\").replace(\",\", \"\"))\n",
    "    temp = json.loads(row['choices'])[row['answer_idx']].replace(\"\\\"\", \"\").replace(\",\", \"\")\n",
    "    data_output.append(f\"{row['answer_idx']}. {temp}\")"
   ]
  },
  {
   "cell_type": "code",
   "execution_count": 4,
   "id": "6929eee3",
   "metadata": {},
   "outputs": [],
   "source": [
    "df['input'] = data_input\n",
    "df['output'] = data_output\n",
    "df['choices'] = data_choices"
   ]
  },
  {
   "cell_type": "code",
   "execution_count": 5,
   "id": "c22bbd2c",
   "metadata": {},
   "outputs": [],
   "source": [
    "import pickle\n",
    "\n",
    "with open('data.pkl', 'wb+') as f:\n",
    "    pickle.dump(df, f)"
   ]
  },
  {
   "cell_type": "code",
   "execution_count": null,
   "id": "098cbe6f",
   "metadata": {},
   "outputs": [],
   "source": []
  }
 ],
 "metadata": {
  "kernelspec": {
   "display_name": "lsk",
   "language": "python",
   "name": "python3"
  },
  "language_info": {
   "codemirror_mode": {
    "name": "ipython",
    "version": 3
   },
   "file_extension": ".py",
   "mimetype": "text/x-python",
   "name": "python",
   "nbconvert_exporter": "python",
   "pygments_lexer": "ipython3",
   "version": "3.11.0"
  }
 },
 "nbformat": 4,
 "nbformat_minor": 5
}
