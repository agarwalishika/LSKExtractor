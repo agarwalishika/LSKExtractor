{
 "cells": [
  {
   "cell_type": "code",
   "execution_count": null,
   "id": "78de84e6",
   "metadata": {},
   "outputs": [],
   "source": [
    "from datasets import load_dataset\n",
    "import json\n",
    "\n",
    "df = load_dataset('nayeon212/BLEnD', 'multiple-choice-questions')['test'].to_pandas()"
   ]
  },
  {
   "cell_type": "code",
   "execution_count": null,
   "id": "4c05173e",
   "metadata": {},
   "outputs": [],
   "source": [
    "input = []\n",
    "choices = []\n",
    "output = []\n",
    "\n",
    "for i, row in df.iterrows():\n",
    "    items = row['prompt'].split('\\n\\n')\n",
    "    input.append(items[0][:items[0].index(\"Provide as JSON\")].strip())\n",
    "    choices.append(items[1])\n",
    "    output.append(f\"{row['answer_idx']}. {json.loads(row['choices'])[row['answer_idx']]}\")"
   ]
  },
  {
   "cell_type": "code",
   "execution_count": null,
   "id": "6929eee3",
   "metadata": {},
   "outputs": [],
   "source": [
    "df['input'] = input\n",
    "df['output'] = output\n",
    "df['choices'] = choices"
   ]
  },
  {
   "cell_type": "code",
   "execution_count": null,
   "id": "c22bbd2c",
   "metadata": {},
   "outputs": [],
   "source": [
    "import pickle\n",
    "\n",
    "with open('processed_blend_data.pkl', 'wb+') as f:\n",
    "    pickle.dump(df, f)"
   ]
  }
 ],
 "metadata": {
  "kernelspec": {
   "display_name": "grpo",
   "language": "python",
   "name": "python3"
  },
  "language_info": {
   "codemirror_mode": {
    "name": "ipython",
    "version": 3
   },
   "file_extension": ".py",
   "mimetype": "text/x-python",
   "name": "python",
   "nbconvert_exporter": "python",
   "pygments_lexer": "ipython3",
   "version": "3.11.0"
  }
 },
 "nbformat": 4,
 "nbformat_minor": 5
}
